{
 "cells": [
  {
   "cell_type": "markdown",
   "metadata": {},
   "source": [
    "# Azure Blob Storage\n",
    "Azure Blob storage is unstructured, meaning that there are no restrictions on the kinds of data it can hold. \n",
    "<br>A blob can hold a document,image, JSON file. In this case we will be storing csv files.\n",
    "<br>**Please note:**\n",
    "<br>Blobs are usually not appropriate for structured data that needs to be queried frequently. They have higher latency than memory and local disk and don't have the indexing features that make databases efficient at running queries. However, you can use them in combination with databases to store non-queryable data.\n",
    "<br><br>\n",
    "The **objective** of this project is to upload and retrive sensor data in form of csv files. Then make some plots of the data once the csv files are downloaded."
   ]
  },
  {
   "cell_type": "markdown",
   "metadata": {},
   "source": [
    "### Installing Packages"
   ]
  },
  {
   "cell_type": "markdown",
   "metadata": {},
   "source": [
    "We begin by installing the Azure Storage Blobs client library for Python with pip\n",
    "<br> Run this command in terminal \n",
    "<br> Run it in the **Anaconda Prompt** if you are use the IPython environment"
   ]
  },
  {
   "cell_type": "code",
   "execution_count": null,
   "metadata": {},
   "outputs": [],
   "source": [
    "pip install azure-storage-blob"
   ]
  },
  {
   "cell_type": "markdown",
   "metadata": {},
   "source": [
    "**Import necesssary packages**"
   ]
  },
  {
   "cell_type": "code",
   "execution_count": 1,
   "metadata": {},
   "outputs": [],
   "source": [
    "import pyodbc\n",
    "import numpy as np\n",
    "import pandas as pd\n",
    "import matplotlib as mpl\n",
    "import matplotlib.pyplot as plt\n",
    "\n",
    "import os, uuid, sys\n",
    "from azure.storage.blob import BlobServiceClient, BlobClient, ContainerClient"
   ]
  },
  {
   "cell_type": "markdown",
   "metadata": {},
   "source": [
    "### Create a storage account\n",
    "You can create a new storage account using the [Azure Portal](https://docs.microsoft.com/en-us/azure/storage/common/storage-account-create?tabs=azure-portal), [Azure PowerShell](https://docs.microsoft.com/en-us/azure/storage/common/storage-account-create?tabs=azure-powershell) or [Azure CLI](https://docs.microsoft.com/en-us/azure/storage/common/storage-account-create?tabs=azure-cli)"
   ]
  },
  {
   "cell_type": "markdown",
   "metadata": {},
   "source": [
    "### Create the client\n",
    "A client will interact with three types of resources: the storage account itself, blob storage containers, and blobs\n",
    "<br>By default, all blobs require authentication to access. However, individual containers can be configured to allow public access\n",
    "<br>Use the connection string to initialize the Azure Storage client library. You can get your connection string through the [Azure Portal](https://docs.microsoft.com/en-us/azure/storage/common/storage-account-create?tabs=azure-portal), [Azure PowerShell](https://docs.microsoft.com/en-us/azure/storage/common/storage-account-create?tabs=azure-powershell) or [Azure CLI](https://docs.microsoft.com/en-us/azure/storage/common/storage-account-create?tabs=azure-cli)"
   ]
  },
  {
   "cell_type": "code",
   "execution_count": 2,
   "metadata": {},
   "outputs": [],
   "source": [
    "CONN = \"your_connection_string\"\n",
    "service = BlobServiceClient.from_connection_string(conn_str=CONN)"
   ]
  },
  {
   "cell_type": "markdown",
   "metadata": {},
   "source": [
    "#### Create new Container\n",
    "Every blob is stored inside a blob container.\n",
    "<br>Container and blob names must conform to a set of rules, including length limitations and character restrictions. \n",
    "<br>Blob names are used to indicate meaning and structure. They can include file name extensions like .csv to indicate what kind of data they contain. \n",
    "<br>For more information on the naming rules:\n",
    "- "
   ]
  },
  {
   "cell_type": "code",
   "execution_count": 3,
   "metadata": {},
   "outputs": [
    {
     "name": "stdout",
     "output_type": "stream",
     "text": [
      "Enter new container name: metadata1\n",
      "Container metadata1 successfuly created!\n",
      "Do you want to create another conatiner? \n",
      "1. Yes\n",
      "2. No\n",
      "2\n",
      "That's it for now.\n"
     ]
    }
   ],
   "source": [
    "def create_container(connect_str):\n",
    "    \n",
    "    proceed = True\n",
    "    \n",
    "    while proceed:\n",
    "        name = input(\"Enter new container name: \")\n",
    "        container = ContainerClient.from_connection_string(conn_str = connect_str, container_name=name)\n",
    "        container.create_container()\n",
    "        print(\"Container {} successfuly created!\".format(name))\n",
    "        \n",
    "        choice = input('Do you want to create another conatiner? \\n1. Yes\\n2. No\\n')\n",
    "        if choice != '1':\n",
    "                print(\"That's it for now.\")\n",
    "                proceed = False\n",
    "        \n",
    "try:\n",
    "            create_container(CONN)\n",
    "                \n",
    "except Exception as message:\n",
    "            print(\"Container was not created because \\n\", message)\n",
    "            choice = input('Try again or exit\\n1. Yes\\n2. No\\n')\n",
    "            if choice == '1':  \n",
    "                create_container(connect = CONN)\n",
    "            else: \n",
    "                print(\"You can always try again later\")\n",
    "                proceed = False\n",
    "        "
   ]
  },
  {
   "cell_type": "markdown",
   "metadata": {},
   "source": [
    "### Creating Blobs\n",
    "If you give your blobs hierarchical names that look like file paths, your API's listing operation can filter results to specific prefixes. This feature is referred to as virtual directories because some tools and client libraries use it to visualize and navigate Blob storage as if it was a file system.\n",
    "<br><br>\n",
    "**Blob Types**\n",
    "<br>There are three different kinds of blobs you can store data in:\n",
    "- **Block blobs** are composed of blocks of different sizes that can be uploaded independently and in parallel. \n",
    "- **Append blobs** that support only appending new data. They are great for scenarios like storing logs or writing streamed data.\n",
    "- **Page blobs** are designed for scenarios that involve random-access reads and writes. \n",
    "\n",
    "<br>In our case Block blobs are the best choice. Their block-based structure supports very fast uploads and downloads and efficient access to individual pieces of a blob. "
   ]
  },
  {
   "cell_type": "code",
   "execution_count": 6,
   "metadata": {},
   "outputs": [
    {
     "name": "stdout",
     "output_type": "stream",
     "text": [
      "Enter container you want to place blob in: laying\n",
      "Enter new blob name: gyr\\lay1.csv\n",
      "Enter path to file you want to upload: C:\\Users\\Sandra\\Desktop\\PROJECTS\\azure_blob_storage\\test_data\\lay-side1_MetaWear_2020-10-06T10.51.23.006_CEBAF1047CD2_Gyroscope_50.000Hz_1.5.0.csv\n",
      "Sucessfully uploaded\n",
      "Do you want to create another blob? \n",
      "1. Yes\n",
      "2. No\n",
      "2\n",
      "That's it for now.\n"
     ]
    }
   ],
   "source": [
    "#Creating new blob and Uploading csv file as blob\n",
    "\n",
    "def create_blob(connect_str):\n",
    "    proceed = True\n",
    "    while proceed:\n",
    "        container_name = input(\"Enter container you want to place blob in: \")\n",
    "        blob_name = input(\"Enter new blob name: \")\n",
    "        data_path = input(\"Enter path to file you want to upload: \")\n",
    "        data_path = r'{}'.format(data_path)\n",
    "        blob = BlobClient.from_connection_string(conn_str=connect_str, container_name=container_name, blob_name=blob_name)\n",
    "\n",
    "        with open(data_path, \"rb\") as data:\n",
    "            blob.upload_blob(data)\n",
    "            print(\"Sucessfully uploaded\")\n",
    "        choice = input('Do you want to create another blob? \\n1. Yes\\n2. No\\n')\n",
    "        if choice != '1':\n",
    "                print(\"That's it for now.\")\n",
    "                proceed = False\n",
    "    \n",
    "    \n",
    "try:\n",
    "            create_blob(CONN)\n",
    "                \n",
    "except Exception as message:\n",
    "            print(\"Blob was not created because \\n\", message)\n",
    "            choice = input('Try again or exit\\n1. Yes\\n2. No\\n')\n",
    "            if choice == '1':  \n",
    "                create_blob(CONN)\n",
    "            else: \n",
    "                print(\"You can always try again later.\")\n",
    "                proceed = False\n",
    "        \n"
   ]
  },
  {
   "cell_type": "markdown",
   "metadata": {},
   "source": [
    "**List blobs**"
   ]
  },
  {
   "cell_type": "code",
   "execution_count": 44,
   "metadata": {},
   "outputs": [
    {
     "name": "stdout",
     "output_type": "stream",
     "text": [
      "sit_gyr\n",
      "sitting\n"
     ]
    }
   ],
   "source": [
    "#List the blobs in a container\n",
    "def list_blob(connect_str):\n",
    "    name = input(\"Enter container name: \")\n",
    "    container = ContainerClient.from_connection_string(conn_str = connect_str, container_name = name)\n",
    "    blob_list = container.list_blobs()\n",
    "    \n",
    "    for blob in blob_list:\n",
    "        print(blob.name)\n",
    "    return blob.list\n",
    "\n",
    "list_blob(CONN)"
   ]
  },
  {
   "cell_type": "code",
   "execution_count": 8,
   "metadata": {},
   "outputs": [
    {
     "name": "stdout",
     "output_type": "stream",
     "text": [
      "Enter container name where the blob is stored: laying\n",
      "Enter blob name: acc\\lay1.csv\n",
      "Enter full path to file you want to download blob to: C:\\Users\\Sandra\\Desktop\\PROJECTS\\azure_blob_storage\\lay1_acc.csv\n",
      "Successfully downloaded\n",
      "Do you want to download another blob? \n",
      "1. Yes\n",
      "2. No\n",
      "1\n",
      "Enter container name where the blob is stored: laying\n",
      "Enter blob name: gyr\\lay1.csv\n",
      "Enter full path to file you want to download blob to: C:\\Users\\Sandra\\Desktop\\PROJECTS\\azure_blob_storage\\lay1_gyr.csv\n",
      "Successfully downloaded\n",
      "Do you want to download another blob? \n",
      "1. Yes\n",
      "2. No\n",
      "2\n",
      "That's it for now.\n"
     ]
    }
   ],
   "source": [
    "#Download a blob in a container\n",
    "\n",
    "def download_blob(connect_str):\n",
    "    proceed = True\n",
    "    while proceed:\n",
    "        container_name = input(\"Enter container name where the blob is stored: \")\n",
    "        blob_name = input(\"Enter blob name: \")\n",
    "        target_path = input(\"Enter full path to file you want to download blob to: \")\n",
    "        \n",
    "        blob = BlobClient.from_connection_string(conn_str=connect_str, container_name = container_name, blob_name=blob_name)\n",
    "        target_path =r'{}'.format(target_path)\n",
    "\n",
    "        with open(target_path, \"wb\") as my_blob:\n",
    "            blob_data = blob.download_blob()\n",
    "            blob_data.readinto(my_blob)\n",
    "            print(\"Successfully downloaded\")\n",
    "        \n",
    "        choice = input('Do you want to download another blob? \\n1. Yes\\n2. No\\n')\n",
    "        if choice != '1':\n",
    "                print(\"That's it for now.\")\n",
    "                proceed = False\n",
    "                \n",
    "                \n",
    "try:\n",
    "            download_blob(CONN)\n",
    "                \n",
    "except Exception as message:\n",
    "            print(\"Blob was not downloaded because \\n\", message)\n",
    "            choice = input('Try again or exit\\n1. Yes\\n2. No\\n')\n",
    "            if choice == '1':  \n",
    "                create_blob(CONN)\n",
    "            else: \n",
    "                print(\"You can always try again later.\")\n",
    "                proceed = False\n",
    "        \n",
    "            "
   ]
  },
  {
   "cell_type": "code",
   "execution_count": 4,
   "metadata": {},
   "outputs": [],
   "source": [
    "# Read CSV file\n",
    "#Laying down\n",
    "lay_acc = pd.read_csv(\"lay1_acc.csv\") \n",
    "lay_gyr = pd.read_csv(\"lay1_gyr.csv\")\n",
    "#Acceleromter\n",
    "lay_acc_x = np.array(lay_acc['x-axis (g)'])\n",
    "lay_acc_y = np.array(lay_acc['y-axis (g)'])\n",
    "lay_acc_z = np.array(lay_acc['z-axis (g)'])\n",
    "#Gyroscope\n",
    "lay_gyr_x = np.array(lay_gyr['x-axis (deg/s)'])\n",
    "lay_gyr_y = np.array(lay_gyr['y-axis (deg/s)'])\n",
    "lay_gyr_z = np.array(lay_gyr['z-axis (deg/s)'])"
   ]
  },
  {
   "cell_type": "markdown",
   "metadata": {},
   "source": [
    "### Let's Visualize the data"
   ]
  },
  {
   "cell_type": "code",
   "execution_count": 8,
   "metadata": {},
   "outputs": [
    {
     "data": {
      "image/png": "[encoded data removed]",
      "text/plain": [
       "<Figure size 432x288 with 2 Axes>"
      ]
     },
     "metadata": {
      "needs_background": "light"
     },
     "output_type": "display_data"
    }
   ],
   "source": [
    "%matplotlib inline\n",
    "\n",
    "#Laying\n",
    "#Accelometer Data\n",
    "fig, (ax1, ax2) = plt.subplots(1, 2)\n",
    "fig.suptitle('Laying Down', fontsize=18)\n",
    "\n",
    "#plt.axes()\n",
    "ax1.set_title('Accelerometer', fontsize=16)\n",
    "ax1.plot(lay_acc_x, 'r', label='acc in x-axis')\n",
    "ax1.plot(lay_acc_y, 'g', label='acc in y-axis')\n",
    "ax1.plot(lay_acc_z, 'b', label='acc in z-axis')\n",
    "ax1.grid(True, which='both')\n",
    "ax1.set(xlabel = 'Acceleration', ylabel= 'Time Steps')\n",
    "ax1.legend()\n",
    "\n",
    "#Gyroscope Data\n",
    "ax2.plot(lay_gyr_x, 'r', label='x-axis')\n",
    "ax2.plot(lay_acc_y, 'g', label='y-axis')\n",
    "ax2.plot(lay_acc_z, 'b', label='z-axis')\n",
    "ax2.grid(True, which='both')\n",
    "ax2.set_title('Gyroscope', fontsize=16)\n",
    "ax2.set(xlabel = 'Rotation', ylabel= 'Time Steps')\n",
    "ax2.legend()\n",
    "fig.tight_layout()\n"
   ]
  },
  {
   "cell_type": "markdown",
   "metadata": {},
   "source": [
    "### References\n",
    "- https://docs.microsoft.com/en-us/learn/modules/store-app-data-with-azure-blob-storage/\n",
    "- https://pypi.org/project/azure-storage-blob/"
   ]
  }
 ],
 "metadata": {
  "kernelspec": {
   "display_name": "Python 3",
   "language": "python",
   "name": "python3"
  },
  "language_info": {
   "codemirror_mode": {
    "name": "ipython",
    "version": 3
   },
   "file_extension": ".py",
   "mimetype": "text/x-python",
   "name": "python",
   "nbconvert_exporter": "python",
   "pygments_lexer": "ipython3",
   "version": "3.7.1"
  }
 },
 "nbformat": 4,
 "nbformat_minor": 4
}
